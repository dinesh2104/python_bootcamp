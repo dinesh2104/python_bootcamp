{
 "cells": [
  {
   "cell_type": "code",
   "execution_count": 5,
   "metadata": {},
   "outputs": [
    {
     "name": "stdout",
     "output_type": "stream",
     "text": [
      "Enter the value of n:7\n",
      "[0, 1, 2, 3, 4, 5, 6, 67]\n",
      "Deleted element: 6\n",
      "[0, 1, 2, 3, 4, 5]\n",
      "max: 5\n",
      "min: 0\n"
     ]
    }
   ],
   "source": [
    "#Q1\n",
    "n=int(input(\"Enter the value of n:\"))\n",
    "l1=[i for i in range(n)]\n",
    "l2=l1+[67]\n",
    "print(l2)\n",
    "print(\"Deleted element:\",l1.pop())\n",
    "print(l1)\n",
    "a=max(l1)\n",
    "print(\"max:\",a)\n",
    "b=min(l1)\n",
    "print(\"min:\",b)"
   ]
  },
  {
   "cell_type": "code",
   "execution_count": 10,
   "metadata": {},
   "outputs": [
    {
     "name": "stdout",
     "output_type": "stream",
     "text": [
      "('B', 'A', 5, 3, 1)\n"
     ]
    }
   ],
   "source": [
    "#Q2\n",
    "t=(1,3,5,'A','B')\n",
    "print(t[::-1])"
   ]
  },
  {
   "cell_type": "code",
   "execution_count": 12,
   "metadata": {},
   "outputs": [
    {
     "name": "stdout",
     "output_type": "stream",
     "text": [
      "[1, 3, 5, 'A', 'B']\n"
     ]
    }
   ],
   "source": [
    "#Q3\n",
    "t=(1,3,5,'A','B')\n",
    "lis1=list(t)\n",
    "print(lis1)"
   ]
  },
  {
   "cell_type": "code",
   "execution_count": null,
   "metadata": {},
   "outputs": [],
   "source": []
  }
 ],
 "metadata": {
  "kernelspec": {
   "display_name": "Python 3",
   "language": "python",
   "name": "python3"
  },
  "language_info": {
   "codemirror_mode": {
    "name": "ipython",
    "version": 3
   },
   "file_extension": ".py",
   "mimetype": "text/x-python",
   "name": "python",
   "nbconvert_exporter": "python",
   "pygments_lexer": "ipython3",
   "version": "3.8.3"
  }
 },
 "nbformat": 4,
 "nbformat_minor": 4
}
