{
 "cells": [
  {
   "cell_type": "code",
   "execution_count": 1,
   "metadata": {},
   "outputs": [
    {
     "name": "stdout",
     "output_type": "stream",
     "text": [
      "Addition 12\n",
      "Subtraction 8\n",
      "Mutiplication 20\n",
      "Division 5\n"
     ]
    }
   ],
   "source": [
    "#Q1\n",
    "def operations(a,b):\n",
    "    print(\"Addition\",(a+b))\n",
    "    print(\"Subtraction\",(a-b))\n",
    "    print(\"Mutiplication\",(a*b))\n",
    "    print(\"Division\",(a//b))\n",
    "    \n",
    "operations(10,2)"
   ]
  },
  {
   "cell_type": "code",
   "execution_count": 4,
   "metadata": {},
   "outputs": [
    {
     "name": "stdout",
     "output_type": "stream",
     "text": [
      "positive\n",
      "Negative\n"
     ]
    }
   ],
   "source": [
    "def covid(name,btmp=98):\n",
    "    if(btmp>100):\n",
    "        print(\"positive\")\n",
    "    else:\n",
    "        print(\"Negative\")\n",
    "covid(\"ram\",101)\n",
    "covid('sam')"
   ]
  },
  {
   "cell_type": "code",
   "execution_count": null,
   "metadata": {},
   "outputs": [],
   "source": []
  }
 ],
 "metadata": {
  "kernelspec": {
   "display_name": "Python 3",
   "language": "python",
   "name": "python3"
  },
  "language_info": {
   "codemirror_mode": {
    "name": "ipython",
    "version": 3
   },
   "file_extension": ".py",
   "mimetype": "text/x-python",
   "name": "python",
   "nbconvert_exporter": "python",
   "pygments_lexer": "ipython3",
   "version": "3.8.3"
  }
 },
 "nbformat": 4,
 "nbformat_minor": 4
}
