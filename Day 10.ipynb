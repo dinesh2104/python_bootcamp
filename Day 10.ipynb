{
 "cells": [
  {
   "cell_type": "code",
   "execution_count": 19,
   "metadata": {},
   "outputs": [
    {
     "name": "stdout",
     "output_type": "stream",
     "text": [
      "Enter the string:addaf978AbbiA\n",
      "['978']\n",
      "['addaf', 'bbi']\n",
      "['A', 'A']\n"
     ]
    }
   ],
   "source": [
    "#Q1\n",
    "import re\n",
    "str1=input(\"Enter the string:\")\n",
    "x=re.findall('[0-9]+',str1)\n",
    "print(x)\n",
    "y=re.findall('[a-z]+',str1)\n",
    "print(y)\n",
    "z=re.findall('[A-Z]+',str1)\n",
    "print(z)"
   ]
  },
  {
   "cell_type": "code",
   "execution_count": 7,
   "metadata": {},
   "outputs": [
    {
     "name": "stdout",
     "output_type": "stream",
     "text": [
      "Enter the string:23dfs\n",
      "String does not contain 'ab'\n"
     ]
    }
   ],
   "source": [
    "#Q2\n",
    "str1=input(\"Enter the string:\")\n",
    "if(re.findall('ab',str1)):\n",
    "    print(\"String contain 'ab'\")\n",
    "else:\n",
    "    print(\"String does not contain 'ab'\")"
   ]
  },
  {
   "cell_type": "code",
   "execution_count": 21,
   "metadata": {},
   "outputs": [
    {
     "name": "stdout",
     "output_type": "stream",
     "text": [
      "Enter the string:bqhdbiqd\n",
      "Wrong input\n"
     ]
    }
   ],
   "source": [
    "#Q3\n",
    "str1=input(\"Enter the string:\")\n",
    "if(re.search(r'\\d+$',str1)):\n",
    "    print(\"Number at the end\")\n",
    "else:\n",
    "    print('Wrong input')"
   ]
  },
  {
   "cell_type": "code",
   "execution_count": 18,
   "metadata": {},
   "outputs": [
    {
     "name": "stdout",
     "output_type": "stream",
     "text": [
      "Enter the string:qwe1\n",
      "Found a number\n"
     ]
    }
   ],
   "source": [
    "#Q4\n",
    "str1=input(\"Enter the string:\")\n",
    "new_str=str1[1:4]\n",
    "if(re.search('[0-9]+',new_str)):\n",
    "    print(\"Found a number\")\n",
    "else:\n",
    "    print(\"No number Found\")"
   ]
  },
  {
   "cell_type": "code",
   "execution_count": 23,
   "metadata": {},
   "outputs": [
    {
     "name": "stdout",
     "output_type": "stream",
     "text": [
      "Enter the string:HI i am HAVING goog\n",
      "Upper case String ['HI', 'HAVING']\n"
     ]
    }
   ],
   "source": [
    "#Q5\n",
    "str1=input(\"Enter the string:\")\n",
    "x=re.findall('[A-Z]+',str1)\n",
    "print(\"Upper case String\",x)"
   ]
  },
  {
   "cell_type": "code",
   "execution_count": null,
   "metadata": {},
   "outputs": [],
   "source": []
  }
 ],
 "metadata": {
  "kernelspec": {
   "display_name": "Python 3",
   "language": "python",
   "name": "python3"
  },
  "language_info": {
   "codemirror_mode": {
    "name": "ipython",
    "version": 3
   },
   "file_extension": ".py",
   "mimetype": "text/x-python",
   "name": "python",
   "nbconvert_exporter": "python",
   "pygments_lexer": "ipython3",
   "version": "3.8.3"
  }
 },
 "nbformat": 4,
 "nbformat_minor": 4
}
