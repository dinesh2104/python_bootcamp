{
 "cells": [
  {
   "cell_type": "code",
   "execution_count": 14,
   "metadata": {},
   "outputs": [
    {
     "name": "stdout",
     "output_type": "stream",
     "text": [
      "('Ram', 10, 'chennai')\n"
     ]
    }
   ],
   "source": [
    "import json\n",
    "import mysql.connector\n",
    "connection=mysql.connector.connect(host=\"localhost\",user=\"root\",password=\"root\",db='employee')\n",
    "cur=connection.cursor()\n",
    "x='{\"Name\":\"Ram\",\"Rollno\":10,\"Location\":\"chennai\"}'\n",
    "obj=json.loads(x)\n",
    "try:\n",
    "    sql=\"insert into employeeinfo values(%s,%s,%s)\"\n",
    "    val=(obj['Name'],obj['Rollno'],obj['Location'])\n",
    "    cur.execute(sql,val);  \n",
    "    connection.commit()\n",
    "except:\n",
    "    connection.rollback()\n",
    "cur.execute('select * from employeeinfo')\n",
    "for i in cur:\n",
    "    print(i)\n",
    "connection.close()"
   ]
  },
  {
   "cell_type": "code",
   "execution_count": null,
   "metadata": {},
   "outputs": [],
   "source": []
  }
 ],
 "metadata": {
  "kernelspec": {
   "display_name": "Python 3",
   "language": "python",
   "name": "python3"
  },
  "language_info": {
   "codemirror_mode": {
    "name": "ipython",
    "version": 3
   },
   "file_extension": ".py",
   "mimetype": "text/x-python",
   "name": "python",
   "nbconvert_exporter": "python",
   "pygments_lexer": "ipython3",
   "version": "3.8.3"
  }
 },
 "nbformat": 4,
 "nbformat_minor": 4
}
