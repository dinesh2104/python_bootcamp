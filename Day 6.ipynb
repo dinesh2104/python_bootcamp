{
 "cells": [
  {
   "cell_type": "code",
   "execution_count": 3,
   "metadata": {},
   "outputs": [
    {
     "name": "stdout",
     "output_type": "stream",
     "text": [
      "List [0, 1, 2, 3, 4, 5, 6, 7, 8, 9]\n",
      "After change [2, 3, 4, 5, 6, 7, 8, 9, 10, 11]\n"
     ]
    }
   ],
   "source": [
    "#Q1\n",
    "list1=list(range(10))\n",
    "print(\"List\",list1)\n",
    "for i in range(len(list1)):\n",
    "    list1[i]=list1[i]+2\n",
    "print(\"After change\",list1)"
   ]
  },
  {
   "cell_type": "code",
   "execution_count": 5,
   "metadata": {},
   "outputs": [
    {
     "name": "stdout",
     "output_type": "stream",
     "text": [
      "54321\n",
      "4321\n",
      "321\n",
      "21\n",
      "1\n"
     ]
    }
   ],
   "source": [
    "#Q2\n",
    "for i in range(5,0,-1):\n",
    "    for j in range(i,0,-1):\n",
    "        print(j,end='')\n",
    "    print()"
   ]
  },
  {
   "cell_type": "code",
   "execution_count": 8,
   "metadata": {},
   "outputs": [
    {
     "name": "stdout",
     "output_type": "stream",
     "text": [
      "Enter the value of n:6\n",
      "0 1  1  2  3  5  "
     ]
    }
   ],
   "source": [
    "#Q3\n",
    "f0=0\n",
    "f1=1\n",
    "n=int(input(\"Enter the value of n:\"))\n",
    "print(f0,f1,' ',end='')\n",
    "for i in range(n-2):\n",
    "    f2=f0+f1\n",
    "    f0=f1\n",
    "    f1=f2\n",
    "    print(f2,' ',end='')\n"
   ]
  },
  {
   "cell_type": "code",
   "execution_count": 10,
   "metadata": {},
   "outputs": [
    {
     "name": "stdout",
     "output_type": "stream",
     "text": [
      "Enter the number to check whether it is armstrong or not153\n",
      "Armstrong\n"
     ]
    }
   ],
   "source": [
    "#Q4\n",
    "import math\n",
    "n=int(input(\"Enter the number to check whether it is armstrong or not\"))\n",
    "n1=n\n",
    "sum1=0\n",
    "while(n>0):\n",
    "    sum1=sum1+pow(n%10,3)\n",
    "    n=n//10\n",
    "if(sum1==n1):\n",
    "    print(\"Armstrong\")\n",
    "else:\n",
    "    print(\"Not armstrong\")"
   ]
  },
  {
   "cell_type": "code",
   "execution_count": 11,
   "metadata": {},
   "outputs": [
    {
     "name": "stdout",
     "output_type": "stream",
     "text": [
      "Enter the value of n:5\n",
      "0 * 9= 0\n",
      "1 * 9= 9\n",
      "2 * 9= 18\n",
      "3 * 9= 27\n",
      "4 * 9= 36\n"
     ]
    }
   ],
   "source": [
    "#Q5\n",
    "n=int(input(\"Enter the value of n:\"))\n",
    "for i in range(n):\n",
    "    print(i,\"*\",\"9=\",i*9)"
   ]
  },
  {
   "cell_type": "code",
   "execution_count": 14,
   "metadata": {},
   "outputs": [
    {
     "name": "stdout",
     "output_type": "stream",
     "text": [
      "Enter the value of n:3\n",
      "Positive\n"
     ]
    }
   ],
   "source": [
    "#Q6\n",
    "n=int(input(\"Enter the value of n:\"))\n",
    "if(n<0):\n",
    "    print(\"Negative\")\n",
    "else:\n",
    "    print(\"Positive\")"
   ]
  },
  {
   "cell_type": "code",
   "execution_count": 17,
   "metadata": {},
   "outputs": [
    {
     "name": "stdout",
     "output_type": "stream",
     "text": [
      "Enter of days:10000\n",
      "27\n"
     ]
    }
   ],
   "source": [
    "#Q7\n",
    "n=int(input(\"Enter of days:\"))\n",
    "age=n//365\n",
    "print(age)\n"
   ]
  },
  {
   "cell_type": "code",
   "execution_count": 19,
   "metadata": {},
   "outputs": [
    {
     "name": "stdout",
     "output_type": "stream",
     "text": [
      "0.5253219888177297\n",
      "-0.3048106211022167\n"
     ]
    }
   ],
   "source": [
    "#Q8\n",
    "import math\n",
    "print(math.cos(45))\n",
    "print(math.sin(60))"
   ]
  },
  {
   "cell_type": "code",
   "execution_count": 23,
   "metadata": {},
   "outputs": [
    {
     "name": "stdout",
     "output_type": "stream",
     "text": [
      "Multiplication 50\n"
     ]
    }
   ],
   "source": [
    "#Q9\n",
    "def calculator(a,b,choice):\n",
    "    if(choice==1):\n",
    "        print(\"Addition\",(a+b))\n",
    "    elif(choice==2):\n",
    "        print(\"Subtraction\",(a,b))\n",
    "    elif(choice==3):\n",
    "        print(\"Multiplication\",a*b)\n",
    "    else:\n",
    "        print(\"Division\",a//b)\n",
    "\n",
    "calculator(10,5,3)\n",
    "    "
   ]
  },
  {
   "cell_type": "code",
   "execution_count": null,
   "metadata": {},
   "outputs": [],
   "source": []
  }
 ],
 "metadata": {
  "kernelspec": {
   "display_name": "Python 3",
   "language": "python",
   "name": "python3"
  },
  "language_info": {
   "codemirror_mode": {
    "name": "ipython",
    "version": 3
   },
   "file_extension": ".py",
   "mimetype": "text/x-python",
   "name": "python",
   "nbconvert_exporter": "python",
   "pygments_lexer": "ipython3",
   "version": "3.8.3"
  }
 },
 "nbformat": 4,
 "nbformat_minor": 4
}
