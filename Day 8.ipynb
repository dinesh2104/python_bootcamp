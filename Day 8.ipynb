{
 "cells": [
  {
   "cell_type": "code",
   "execution_count": 5,
   "metadata": {},
   "outputs": [
    {
     "name": "stdout",
     "output_type": "stream",
     "text": [
      "Variable x is not defined\n"
     ]
    }
   ],
   "source": [
    "#Q1\n",
    "try:\n",
    "    print(x)\n",
    "except NameError:\n",
    "    print(\"Variable x is not defined\")\n",
    "except TypeError:\n",
    "    print(\"Something else went wrong\")\n",
    "    "
   ]
  },
  {
   "cell_type": "code",
   "execution_count": 6,
   "metadata": {},
   "outputs": [
    {
     "name": "stdout",
     "output_type": "stream",
     "text": [
      "Enter the a value:4\n",
      "Enter the b value:0\n",
      "Enter the choice value:2\n",
      "Subtraction (4, 0)\n"
     ]
    }
   ],
   "source": [
    "#Q2\n",
    "def calculator(a,b,choice):\n",
    "    try:\n",
    "        if(choice==1):\n",
    "            print(\"Addition\",(a+b))\n",
    "        elif(choice==2):\n",
    "            print(\"Subtraction\",(a,b))\n",
    "        elif(choice==3):\n",
    "            print(\"Multiplication\",a*b)\n",
    "        else:\n",
    "            print(\"Division\",a//b)\n",
    "    except:\n",
    "        print(\"wrong input\")\n",
    "\n",
    "a=int(input(\"Enter the a value:\"))\n",
    "b=int(input(\"Enter the b value:\"))\n",
    "ch=int(input(\"Enter the choice value:\"))\n",
    "calculator(a,b,ch)"
   ]
  },
  {
   "cell_type": "code",
   "execution_count": 7,
   "metadata": {},
   "outputs": [
    {
     "name": "stdout",
     "output_type": "stream",
     "text": [
      "Variable x is not defined\n"
     ]
    }
   ],
   "source": [
    "#Q3\n",
    "try:\n",
    "    print(x)\n",
    "except NameError:\n",
    "    print(\"Variable x is not defined\")\n",
    "except:\n",
    "    print(\"Something else went wrong\")"
   ]
  },
  {
   "cell_type": "code",
   "execution_count": 8,
   "metadata": {},
   "outputs": [
    {
     "name": "stdout",
     "output_type": "stream",
     "text": [
      "Enter the value:5\n",
      "Something went wrong\n"
     ]
    }
   ],
   "source": [
    "#Q5\n",
    "try:\n",
    "    a=int(input(\"Enter the value:\"))\n",
    "    print(a//0)\n",
    "except:\n",
    "    print(\"Something went wrong\")"
   ]
  },
  {
   "cell_type": "code",
   "execution_count": null,
   "metadata": {},
   "outputs": [],
   "source": []
  }
 ],
 "metadata": {
  "kernelspec": {
   "display_name": "Python 3",
   "language": "python",
   "name": "python3"
  },
  "language_info": {
   "codemirror_mode": {
    "name": "ipython",
    "version": 3
   },
   "file_extension": ".py",
   "mimetype": "text/x-python",
   "name": "python",
   "nbconvert_exporter": "python",
   "pygments_lexer": "ipython3",
   "version": "3.8.3"
  }
 },
 "nbformat": 4,
 "nbformat_minor": 4
}
